{
 "metadata": {
  "language_info": {
   "codemirror_mode": {
    "name": "ipython",
    "version": 3
   },
   "file_extension": ".py",
   "mimetype": "text/x-python",
   "name": "python",
   "nbconvert_exporter": "python",
   "pygments_lexer": "ipython3",
   "version": "3.8.3"
  },
  "orig_nbformat": 2,
  "kernelspec": {
   "name": "python383jvsc74a57bd01e915f0a29dc84041eaeb02b7b1a21c440e37a87b61d44d5e84a515737dc82bc",
   "display_name": "Python 3.8.3 64-bit ('base': conda)"
  }
 },
 "nbformat": 4,
 "nbformat_minor": 2,
 "cells": [
  {
   "cell_type": "code",
   "execution_count": 32,
   "metadata": {},
   "outputs": [],
   "source": [
    "# To access preprocessy module. Required in .ipynb files\n",
    "import os\n",
    "import sys\n",
    "module_path = os.path.abspath(os.path.join('..'))\n",
    "if module_path not in sys.path:\n",
    "    sys.path.append(module_path)"
   ]
  },
  {
   "cell_type": "code",
   "execution_count": 33,
   "metadata": {},
   "outputs": [],
   "source": [
    "import pandas as pd\n",
    "import numpy as np\n",
    "import matplotlib\n",
    "\n",
    "import mlxtend\n",
    "from scipy import stats\n",
    "from mlxtend.preprocessing import minmax_scaling\n",
    "import seaborn as sns\n",
    "from sklearn import preprocessing\n",
    "\n",
    "import matplotlib.pyplot as plt\n",
    "%matplotlib inline\n",
    "matplotlib.style.use('ggplot')\n",
    "\n",
    "import warnings\n",
    "warnings.filterwarnings('ignore')\n",
    "\n",
    "from preprocessy.scaling import Scaler\n",
    "from preprocessy.resampling import Split\n",
    "import time\n",
    "\n",
    "from sklearn.datasets import load_iris, load_boston, load_breast_cancer, load_diabetes\n",
    "from sklearn.impute import SimpleImputer\n",
    "from sklearn.ensemble import RandomForestRegressor\n",
    "from sklearn.ensemble import RandomForestClassifier\n",
    "from sklearn.metrics import mean_absolute_error,classification_report, r2_score\n",
    "from sklearn.model_selection import train_test_split\n",
    "\n",
    "from preprocessy.handlenullvalues import NullValuesHandler\n",
    "from preprocessy.resampling import Split\n",
    "\n",
    "np.random.seed(101)"
   ]
  },
  {
   "cell_type": "code",
   "execution_count": 34,
   "metadata": {},
   "outputs": [
    {
     "output_type": "execute_result",
     "data": {
      "text/plain": [
       "       Suburb           Address  Rooms Type      Price Method SellerG  \\\n",
       "0  Abbotsford      85 Turner St      2    h  1480000.0      S  Biggin   \n",
       "1  Abbotsford   25 Bloomburg St      2    h  1035000.0      S  Biggin   \n",
       "2  Abbotsford      5 Charles St      3    h  1465000.0     SP  Biggin   \n",
       "3  Abbotsford  40 Federation La      3    h   850000.0     PI  Biggin   \n",
       "4  Abbotsford       55a Park St      4    h  1600000.0     VB  Nelson   \n",
       "\n",
       "        Date  Distance  Postcode  ...  Bathroom  Car  Landsize  BuildingArea  \\\n",
       "0  3/12/2016       2.5    3067.0  ...       1.0  1.0     202.0           NaN   \n",
       "1  4/02/2016       2.5    3067.0  ...       1.0  0.0     156.0          79.0   \n",
       "2  4/03/2017       2.5    3067.0  ...       2.0  0.0     134.0         150.0   \n",
       "3  4/03/2017       2.5    3067.0  ...       2.0  1.0      94.0           NaN   \n",
       "4  4/06/2016       2.5    3067.0  ...       1.0  2.0     120.0         142.0   \n",
       "\n",
       "   YearBuilt  CouncilArea Lattitude  Longtitude             Regionname  \\\n",
       "0        NaN        Yarra  -37.7996    144.9984  Northern Metropolitan   \n",
       "1     1900.0        Yarra  -37.8079    144.9934  Northern Metropolitan   \n",
       "2     1900.0        Yarra  -37.8093    144.9944  Northern Metropolitan   \n",
       "3        NaN        Yarra  -37.7969    144.9969  Northern Metropolitan   \n",
       "4     2014.0        Yarra  -37.8072    144.9941  Northern Metropolitan   \n",
       "\n",
       "  Propertycount  \n",
       "0        4019.0  \n",
       "1        4019.0  \n",
       "2        4019.0  \n",
       "3        4019.0  \n",
       "4        4019.0  \n",
       "\n",
       "[5 rows x 21 columns]"
      ],
      "text/html": "<div>\n<style scoped>\n    .dataframe tbody tr th:only-of-type {\n        vertical-align: middle;\n    }\n\n    .dataframe tbody tr th {\n        vertical-align: top;\n    }\n\n    .dataframe thead th {\n        text-align: right;\n    }\n</style>\n<table border=\"1\" class=\"dataframe\">\n  <thead>\n    <tr style=\"text-align: right;\">\n      <th></th>\n      <th>Suburb</th>\n      <th>Address</th>\n      <th>Rooms</th>\n      <th>Type</th>\n      <th>Price</th>\n      <th>Method</th>\n      <th>SellerG</th>\n      <th>Date</th>\n      <th>Distance</th>\n      <th>Postcode</th>\n      <th>...</th>\n      <th>Bathroom</th>\n      <th>Car</th>\n      <th>Landsize</th>\n      <th>BuildingArea</th>\n      <th>YearBuilt</th>\n      <th>CouncilArea</th>\n      <th>Lattitude</th>\n      <th>Longtitude</th>\n      <th>Regionname</th>\n      <th>Propertycount</th>\n    </tr>\n  </thead>\n  <tbody>\n    <tr>\n      <th>0</th>\n      <td>Abbotsford</td>\n      <td>85 Turner St</td>\n      <td>2</td>\n      <td>h</td>\n      <td>1480000.0</td>\n      <td>S</td>\n      <td>Biggin</td>\n      <td>3/12/2016</td>\n      <td>2.5</td>\n      <td>3067.0</td>\n      <td>...</td>\n      <td>1.0</td>\n      <td>1.0</td>\n      <td>202.0</td>\n      <td>NaN</td>\n      <td>NaN</td>\n      <td>Yarra</td>\n      <td>-37.7996</td>\n      <td>144.9984</td>\n      <td>Northern Metropolitan</td>\n      <td>4019.0</td>\n    </tr>\n    <tr>\n      <th>1</th>\n      <td>Abbotsford</td>\n      <td>25 Bloomburg St</td>\n      <td>2</td>\n      <td>h</td>\n      <td>1035000.0</td>\n      <td>S</td>\n      <td>Biggin</td>\n      <td>4/02/2016</td>\n      <td>2.5</td>\n      <td>3067.0</td>\n      <td>...</td>\n      <td>1.0</td>\n      <td>0.0</td>\n      <td>156.0</td>\n      <td>79.0</td>\n      <td>1900.0</td>\n      <td>Yarra</td>\n      <td>-37.8079</td>\n      <td>144.9934</td>\n      <td>Northern Metropolitan</td>\n      <td>4019.0</td>\n    </tr>\n    <tr>\n      <th>2</th>\n      <td>Abbotsford</td>\n      <td>5 Charles St</td>\n      <td>3</td>\n      <td>h</td>\n      <td>1465000.0</td>\n      <td>SP</td>\n      <td>Biggin</td>\n      <td>4/03/2017</td>\n      <td>2.5</td>\n      <td>3067.0</td>\n      <td>...</td>\n      <td>2.0</td>\n      <td>0.0</td>\n      <td>134.0</td>\n      <td>150.0</td>\n      <td>1900.0</td>\n      <td>Yarra</td>\n      <td>-37.8093</td>\n      <td>144.9944</td>\n      <td>Northern Metropolitan</td>\n      <td>4019.0</td>\n    </tr>\n    <tr>\n      <th>3</th>\n      <td>Abbotsford</td>\n      <td>40 Federation La</td>\n      <td>3</td>\n      <td>h</td>\n      <td>850000.0</td>\n      <td>PI</td>\n      <td>Biggin</td>\n      <td>4/03/2017</td>\n      <td>2.5</td>\n      <td>3067.0</td>\n      <td>...</td>\n      <td>2.0</td>\n      <td>1.0</td>\n      <td>94.0</td>\n      <td>NaN</td>\n      <td>NaN</td>\n      <td>Yarra</td>\n      <td>-37.7969</td>\n      <td>144.9969</td>\n      <td>Northern Metropolitan</td>\n      <td>4019.0</td>\n    </tr>\n    <tr>\n      <th>4</th>\n      <td>Abbotsford</td>\n      <td>55a Park St</td>\n      <td>4</td>\n      <td>h</td>\n      <td>1600000.0</td>\n      <td>VB</td>\n      <td>Nelson</td>\n      <td>4/06/2016</td>\n      <td>2.5</td>\n      <td>3067.0</td>\n      <td>...</td>\n      <td>1.0</td>\n      <td>2.0</td>\n      <td>120.0</td>\n      <td>142.0</td>\n      <td>2014.0</td>\n      <td>Yarra</td>\n      <td>-37.8072</td>\n      <td>144.9941</td>\n      <td>Northern Metropolitan</td>\n      <td>4019.0</td>\n    </tr>\n  </tbody>\n</table>\n<p>5 rows × 21 columns</p>\n</div>"
     },
     "metadata": {},
     "execution_count": 34
    }
   ],
   "source": [
    "melb_data = pd.read_csv('../datasets/handling_null_values/melb_data.csv')\n",
    "melb_data_copy1 = melb_data\n",
    "melb_data_copy2 = melb_data\n",
    "\n",
    "dtf_1 = pd.DataFrame(columns = ['Accuracy', 'Time'])\n",
    "dtf_2 = pd.DataFrame(columns = ['Accuracy', 'Time'])\n",
    "dtf_3 = pd.DataFrame(columns = ['Accuracy', 'Time'])\n",
    "\n",
    "melb_data.head()"
   ]
  },
  {
   "cell_type": "code",
   "execution_count": 35,
   "metadata": {},
   "outputs": [
    {
     "output_type": "execute_result",
     "data": {
      "text/plain": [
       "['Rooms',\n",
       " 'Distance',\n",
       " 'Postcode',\n",
       " 'Bedroom2',\n",
       " 'Bathroom',\n",
       " 'Car',\n",
       " 'Landsize',\n",
       " 'BuildingArea',\n",
       " 'YearBuilt',\n",
       " 'Lattitude',\n",
       " 'Longtitude',\n",
       " 'Propertycount']"
      ]
     },
     "metadata": {},
     "execution_count": 35
    }
   ],
   "source": [
    "# Consider Price as Target property and others as Predictors \n",
    "melb_target = melb_data.Price\n",
    "\n",
    "melb_predictors = melb_data.drop(['Price'], axis=1)\n",
    "melb_numeric_predictors = melb_predictors.select_dtypes(exclude=['object'])\n",
    "col_names = list(melb_numeric_predictors.columns)\n",
    "col_names"
   ]
  },
  {
   "source": [
    "## MinMaxScaler\n",
    "-  smaller standard deviations through the process"
   ],
   "cell_type": "markdown",
   "metadata": {}
  },
  {
   "cell_type": "code",
   "execution_count": 36,
   "metadata": {},
   "outputs": [
    {
     "output_type": "stream",
     "name": "stdout",
     "text": [
      "          Rooms  Distance  Postcode  Bedroom2  Bathroom  Car  Landsize  \\\n10872  0.333333  0.565489  0.024565       0.2     0.250  0.2  0.000924   \n6603   0.111111  0.106029  0.185261       0.1     0.125  0.1  0.000000   \n\n       BuildingArea  YearBuilt  Lattitude  Longtitude  Propertycount  \n10872      0.003404   0.987835   0.403194    0.152420       0.234241  \n6603       0.003414   0.965937   0.418658    0.519479       0.193028  \n          Rooms  Distance  Postcode  Bedroom2  Bathroom  Car  Landsize  \\\n10059  0.222222  0.218295  0.020471      0.15     0.125  0.1  0.000744   \n6844   0.222222  0.037422  0.054248      0.15     0.250  0.1  0.000000   \n\n       BuildingArea  YearBuilt  Lattitude  Longtitude  Propertycount  \n10059      0.003414   0.935139   0.504457    0.354880       0.304378  \n6844       0.003414   0.935139   0.501214    0.493166       0.305453  \n10872     478000.0\n6603      555000.0\n162       743000.0\n7072     1651000.0\n7420      455000.0\nName: Price, dtype: float64\n10059     518000.0\n6844     1110000.0\n8726     1225000.0\n1904      730000.0\n8835      650000.0\nName: Price, dtype: float64\n"
     ]
    }
   ],
   "source": [
    "imputed_df = melb_data_copy2.select_dtypes(exclude=['object']).fillna(melb_data_copy2.select_dtypes(exclude=['object']).mean())\n",
    "\n",
    "mm_scaler = preprocessing.MinMaxScaler()\n",
    "df_mm = mm_scaler.fit_transform(imputed_df.drop(['Price'], axis =1))\n",
    "df_mm = pd.DataFrame(df_mm, columns=col_names)\n",
    "X_train, X_test, y_train, y_test = train_test_split(df_mm, imputed_df['Price'], test_size=0.3, random_state=69)\n",
    "\n",
    "print(X_train[:2])\n",
    "print(X_test[:2])\n",
    "print(y_train[:5])\n",
    "print(y_test[:5])"
   ]
  },
  {
   "cell_type": "code",
   "execution_count": null,
   "metadata": {},
   "outputs": [],
   "source": []
  },
  {
   "cell_type": "code",
   "execution_count": 37,
   "metadata": {},
   "outputs": [
    {
     "output_type": "stream",
     "name": "stdout",
     "text": [
      "         Rooms  Distance  Postcode  Bedroom2  Bathroom  Car  Landsize  \\\n4074  0.428571  0.565489  0.024565       0.2     0.250  0.2  0.000924   \n4075  0.142857  0.106029  0.185261       0.1     0.125  0.1  0.000000   \n\n      BuildingArea  YearBuilt  Lattitude  Longtitude  Propertycount  \n4074      0.003404   0.951872   0.403194    0.113268       0.234241  \n4075      0.003414   0.855615   0.418658    0.516228       0.193028  \n      Rooms  Distance  Postcode  Bedroom2  Bathroom    Car  Landsize  \\\n0  0.222222  0.221987  0.020471       0.3  0.166667  0.125  0.014828   \n1  0.222222  0.038055  0.054248       0.3  0.333333  0.125  0.000000   \n\n   BuildingArea  YearBuilt  Lattitude  Longtitude  Propertycount  \n0      0.132955   0.935139   0.549173    0.354880       0.299798  \n1      0.132955   0.935139   0.545502    0.493166       0.300880  \n          Price\n4074   478000.0\n4075   555000.0\n4076   743000.0\n4077  1651000.0\n4078   455000.0\n       Price\n0   518000.0\n1  1110000.0\n2  1225000.0\n3   730000.0\n4   650000.0\n"
     ]
    }
   ],
   "source": [
    "params = {\"df\": melb_data_copy1.select_dtypes(exclude=['object']), \"test_size\": 0.3, \"type\": \"MinMaxScaler\",  \"fill_missing\":  \"mean\"}\n",
    "target_col = \"Price\"\n",
    "\n",
    "NullValuesHandler().execute(params)\n",
    "params[\"X\"] = params.pop(\"df\")\n",
    "Split().train_test_split(params)\n",
    "# this params has X, test_size, train_df, test_df, type\n",
    "# To get: target_col\n",
    "params[\"train_df\"] = params.pop('train')\n",
    "params[\"test_df\"] = params.pop('test')\n",
    "params[\"columns\"] = list(params[\"train_df\"].columns)\n",
    "params[\"target_col\"] = target_col\n",
    "Scaler().execute(params)\n",
    "\n",
    "# print(params.keys())\n",
    "y_train = params[\"train_df\"][[\"Price\"]]\n",
    "X_train = params[\"train_df\"].drop(target_col,axis =1)\n",
    "X_test = params[\"test_df\"].drop(target_col,axis =1)\n",
    "y_test = params[\"test_df\"][[\"Price\"]]\n",
    "\n",
    "print(X_train[:2])\n",
    "print(X_test[:2])\n",
    "print(y_train[:5])\n",
    "print(y_test[:5])"
   ]
  },
  {
   "cell_type": "code",
   "execution_count": null,
   "metadata": {},
   "outputs": [],
   "source": []
  },
  {
   "cell_type": "code",
   "execution_count": null,
   "metadata": {},
   "outputs": [],
   "source": []
  },
  {
   "cell_type": "code",
   "execution_count": 38,
   "metadata": {},
   "outputs": [],
   "source": [
    "def preprocessy_score_dataset(params, target_col):\n",
    "\n",
    "    # params = {\"df\": melb_data_copy1.select_dtypes(exclude=['object']), \"test_size\": 0.3, \"type\": \"MinMaxScaler\",  \"fill_missing\":  \"mean\"}\n",
    "\n",
    "    start = time.time()\n",
    "    NullValuesHandler().execute(params)\n",
    "    params[\"X\"] = params.pop(\"df\")\n",
    "    Split().train_test_split(params)\n",
    "    # this params has X, test_size, train_df, test_df, type\n",
    "    # To get: target_col\n",
    "    params[\"train_df\"] = params.pop('train')\n",
    "    params[\"test_df\"] = params.pop('test')\n",
    "    params[\"columns\"] = list(params[\"train_df\"].columns)\n",
    "    params[\"target_col\"] = target_col\n",
    "    Scaler().execute(params)\n",
    "\n",
    "    # print(params.keys())\n",
    "    y_train = params[\"train_df\"][[\"Price\"]]\n",
    "    X_train = params[\"train_df\"].drop(target_col,axis =1)\n",
    "    X_test = params[\"test_df\"].drop(target_col,axis =1)\n",
    "    y_test = params[\"test_df\"][[\"Price\"]]\n",
    "    print(y_test.head(5))\n",
    "    model = RandomForestRegressor()\n",
    "    model.fit(X_train, y_train)\n",
    "    preprocessy_preds = model.predict(X_test)\n",
    "\n",
    "    end=time.time()\n",
    "    preprocessy_time = np.round(end - start,4)\n",
    "    \n",
    "    preprocessy_accuracy = np.round(r2_score(y_test, preprocessy_preds),4)\n",
    "    print(preprocessy_preds[:5])\n",
    "    return preprocessy_accuracy, preprocessy_time"
   ]
  },
  {
   "cell_type": "code",
   "execution_count": 39,
   "metadata": {},
   "outputs": [
    {
     "output_type": "stream",
     "name": "stdout",
     "text": [
      "       Price\n",
      "0   518000.0\n",
      "1  1110000.0\n",
      "2  1225000.0\n",
      "3   730000.0\n",
      "4   650000.0\n",
      "[ 729615.   1410490.   2715465.    735468.    904945.17]\n"
     ]
    }
   ],
   "source": [
    "acc, t = preprocessy_score_dataset(params = {\"df\": melb_data_copy1.select_dtypes(exclude=['object']), \"test_size\": 0.3, \"type\": \"MinMaxScaler\",  \"fill_missing\":  \"mean\"}, target_col = \"Price\")\n",
    "\n",
    "dtf_1.loc['Preprocessy'] = [acc, t]"
   ]
  },
  {
   "cell_type": "code",
   "execution_count": 40,
   "metadata": {},
   "outputs": [
    {
     "output_type": "execute_result",
     "data": {
      "text/plain": [
       "             Accuracy    Time\n",
       "Preprocessy   -0.2739  4.8181"
      ],
      "text/html": "<div>\n<style scoped>\n    .dataframe tbody tr th:only-of-type {\n        vertical-align: middle;\n    }\n\n    .dataframe tbody tr th {\n        vertical-align: top;\n    }\n\n    .dataframe thead th {\n        text-align: right;\n    }\n</style>\n<table border=\"1\" class=\"dataframe\">\n  <thead>\n    <tr style=\"text-align: right;\">\n      <th></th>\n      <th>Accuracy</th>\n      <th>Time</th>\n    </tr>\n  </thead>\n  <tbody>\n    <tr>\n      <th>Preprocessy</th>\n      <td>-0.2739</td>\n      <td>4.8181</td>\n    </tr>\n  </tbody>\n</table>\n</div>"
     },
     "metadata": {},
     "execution_count": 40
    }
   ],
   "source": [
    "dtf_1"
   ]
  },
  {
   "cell_type": "code",
   "execution_count": null,
   "metadata": {},
   "outputs": [],
   "source": []
  }
 ]
}