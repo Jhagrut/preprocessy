{
 "cells": [
  {
   "cell_type": "markdown",
   "metadata": {},
   "source": [
    "## Evaluation for Scaler Class\r\n",
    "\r\n",
    "- Evaluates the effect of preprocessy execute function on model accuracy compared to sklearn\r\n",
    "- Evaluates on 1 dataset\r\n",
    "    * Melbourne Housing Snapshot\r\n",
    "- Considering a standard test size of 0.3 for all 3 cases i.e.\r\n",
    "    * MinMaxScaling\r\n",
    "    * StandardScaling\r\n",
    "    * BinaryScaling\r\n",
    "- Using RandomForestRegressor() model\r\n",
    "- Using r2_score of sklearn.metrics\r\n",
    "- Comparisons between sklearn and preprocessy based on accuracy and time have been indicated at the end"
   ]
  },
  {
   "cell_type": "code",
   "execution_count": 4,
   "metadata": {},
   "outputs": [],
   "source": [
    "# To access preprocessy module. Required in .ipynb files\n",
    "import os\n",
    "import sys\n",
    "module_path = os.path.abspath(os.path.join('..'))\n",
    "if module_path not in sys.path:\n",
    "    sys.path.append(module_path)"
   ]
  },
  {
   "cell_type": "code",
   "execution_count": 49,
   "metadata": {},
   "outputs": [],
   "source": [
    "import pandas as pd\n",
    "import numpy as np\n",
    "import matplotlib\n",
    "\n",
    "import mlxtend\n",
    "from scipy import stats\n",
    "from mlxtend.preprocessing import minmax_scaling\n",
    "import seaborn as sns\n",
    "from sklearn import preprocessing\n",
    "\n",
    "import matplotlib.pyplot as plt\n",
    "%matplotlib inline\n",
    "matplotlib.style.use('ggplot')\n",
    "\n",
    "import warnings\n",
    "warnings.filterwarnings('ignore')\n",
    "\n",
    "from preprocessy.scaling import Scaler\n",
    "from preprocessy.resampling import Split\n",
    "import time\n",
    "\n",
    "from sklearn.datasets import load_iris, load_boston, load_breast_cancer, load_diabetes\n",
    "from sklearn.impute import SimpleImputer\n",
    "from sklearn.ensemble import RandomForestRegressor\n",
    "from sklearn.ensemble import RandomForestClassifier\n",
    "from sklearn.metrics import mean_absolute_error,classification_report, r2_score, mean_squared_error\n",
    "from sklearn.model_selection import train_test_split\n",
    "\n",
    "from preprocessy.handlenullvalues import NullValuesHandler\n",
    "from preprocessy.resampling import Split\n",
    "\n",
    "np.random.seed(101)"
   ]
  },
  {
   "cell_type": "code",
   "execution_count": 50,
   "metadata": {},
   "outputs": [
    {
     "data": {
      "text/html": [
       "<div>\n",
       "<style scoped>\n",
       "    .dataframe tbody tr th:only-of-type {\n",
       "        vertical-align: middle;\n",
       "    }\n",
       "\n",
       "    .dataframe tbody tr th {\n",
       "        vertical-align: top;\n",
       "    }\n",
       "\n",
       "    .dataframe thead th {\n",
       "        text-align: right;\n",
       "    }\n",
       "</style>\n",
       "<table border=\"1\" class=\"dataframe\">\n",
       "  <thead>\n",
       "    <tr style=\"text-align: right;\">\n",
       "      <th></th>\n",
       "      <th>Suburb</th>\n",
       "      <th>Address</th>\n",
       "      <th>Rooms</th>\n",
       "      <th>Type</th>\n",
       "      <th>Price</th>\n",
       "      <th>Method</th>\n",
       "      <th>SellerG</th>\n",
       "      <th>Date</th>\n",
       "      <th>Distance</th>\n",
       "      <th>Postcode</th>\n",
       "      <th>...</th>\n",
       "      <th>Bathroom</th>\n",
       "      <th>Car</th>\n",
       "      <th>Landsize</th>\n",
       "      <th>BuildingArea</th>\n",
       "      <th>YearBuilt</th>\n",
       "      <th>CouncilArea</th>\n",
       "      <th>Lattitude</th>\n",
       "      <th>Longtitude</th>\n",
       "      <th>Regionname</th>\n",
       "      <th>Propertycount</th>\n",
       "    </tr>\n",
       "  </thead>\n",
       "  <tbody>\n",
       "    <tr>\n",
       "      <th>0</th>\n",
       "      <td>Abbotsford</td>\n",
       "      <td>85 Turner St</td>\n",
       "      <td>2</td>\n",
       "      <td>h</td>\n",
       "      <td>1480000.0</td>\n",
       "      <td>S</td>\n",
       "      <td>Biggin</td>\n",
       "      <td>3/12/2016</td>\n",
       "      <td>2.5</td>\n",
       "      <td>3067.0</td>\n",
       "      <td>...</td>\n",
       "      <td>1.0</td>\n",
       "      <td>1.0</td>\n",
       "      <td>202.0</td>\n",
       "      <td>NaN</td>\n",
       "      <td>NaN</td>\n",
       "      <td>Yarra</td>\n",
       "      <td>-37.7996</td>\n",
       "      <td>144.9984</td>\n",
       "      <td>Northern Metropolitan</td>\n",
       "      <td>4019.0</td>\n",
       "    </tr>\n",
       "    <tr>\n",
       "      <th>1</th>\n",
       "      <td>Abbotsford</td>\n",
       "      <td>25 Bloomburg St</td>\n",
       "      <td>2</td>\n",
       "      <td>h</td>\n",
       "      <td>1035000.0</td>\n",
       "      <td>S</td>\n",
       "      <td>Biggin</td>\n",
       "      <td>4/02/2016</td>\n",
       "      <td>2.5</td>\n",
       "      <td>3067.0</td>\n",
       "      <td>...</td>\n",
       "      <td>1.0</td>\n",
       "      <td>0.0</td>\n",
       "      <td>156.0</td>\n",
       "      <td>79.0</td>\n",
       "      <td>1900.0</td>\n",
       "      <td>Yarra</td>\n",
       "      <td>-37.8079</td>\n",
       "      <td>144.9934</td>\n",
       "      <td>Northern Metropolitan</td>\n",
       "      <td>4019.0</td>\n",
       "    </tr>\n",
       "    <tr>\n",
       "      <th>2</th>\n",
       "      <td>Abbotsford</td>\n",
       "      <td>5 Charles St</td>\n",
       "      <td>3</td>\n",
       "      <td>h</td>\n",
       "      <td>1465000.0</td>\n",
       "      <td>SP</td>\n",
       "      <td>Biggin</td>\n",
       "      <td>4/03/2017</td>\n",
       "      <td>2.5</td>\n",
       "      <td>3067.0</td>\n",
       "      <td>...</td>\n",
       "      <td>2.0</td>\n",
       "      <td>0.0</td>\n",
       "      <td>134.0</td>\n",
       "      <td>150.0</td>\n",
       "      <td>1900.0</td>\n",
       "      <td>Yarra</td>\n",
       "      <td>-37.8093</td>\n",
       "      <td>144.9944</td>\n",
       "      <td>Northern Metropolitan</td>\n",
       "      <td>4019.0</td>\n",
       "    </tr>\n",
       "    <tr>\n",
       "      <th>3</th>\n",
       "      <td>Abbotsford</td>\n",
       "      <td>40 Federation La</td>\n",
       "      <td>3</td>\n",
       "      <td>h</td>\n",
       "      <td>850000.0</td>\n",
       "      <td>PI</td>\n",
       "      <td>Biggin</td>\n",
       "      <td>4/03/2017</td>\n",
       "      <td>2.5</td>\n",
       "      <td>3067.0</td>\n",
       "      <td>...</td>\n",
       "      <td>2.0</td>\n",
       "      <td>1.0</td>\n",
       "      <td>94.0</td>\n",
       "      <td>NaN</td>\n",
       "      <td>NaN</td>\n",
       "      <td>Yarra</td>\n",
       "      <td>-37.7969</td>\n",
       "      <td>144.9969</td>\n",
       "      <td>Northern Metropolitan</td>\n",
       "      <td>4019.0</td>\n",
       "    </tr>\n",
       "    <tr>\n",
       "      <th>4</th>\n",
       "      <td>Abbotsford</td>\n",
       "      <td>55a Park St</td>\n",
       "      <td>4</td>\n",
       "      <td>h</td>\n",
       "      <td>1600000.0</td>\n",
       "      <td>VB</td>\n",
       "      <td>Nelson</td>\n",
       "      <td>4/06/2016</td>\n",
       "      <td>2.5</td>\n",
       "      <td>3067.0</td>\n",
       "      <td>...</td>\n",
       "      <td>1.0</td>\n",
       "      <td>2.0</td>\n",
       "      <td>120.0</td>\n",
       "      <td>142.0</td>\n",
       "      <td>2014.0</td>\n",
       "      <td>Yarra</td>\n",
       "      <td>-37.8072</td>\n",
       "      <td>144.9941</td>\n",
       "      <td>Northern Metropolitan</td>\n",
       "      <td>4019.0</td>\n",
       "    </tr>\n",
       "  </tbody>\n",
       "</table>\n",
       "<p>5 rows × 21 columns</p>\n",
       "</div>"
      ],
      "text/plain": [
       "       Suburb           Address  Rooms Type      Price Method SellerG  \\\n",
       "0  Abbotsford      85 Turner St      2    h  1480000.0      S  Biggin   \n",
       "1  Abbotsford   25 Bloomburg St      2    h  1035000.0      S  Biggin   \n",
       "2  Abbotsford      5 Charles St      3    h  1465000.0     SP  Biggin   \n",
       "3  Abbotsford  40 Federation La      3    h   850000.0     PI  Biggin   \n",
       "4  Abbotsford       55a Park St      4    h  1600000.0     VB  Nelson   \n",
       "\n",
       "        Date  Distance  Postcode  ...  Bathroom  Car  Landsize  BuildingArea  \\\n",
       "0  3/12/2016       2.5    3067.0  ...       1.0  1.0     202.0           NaN   \n",
       "1  4/02/2016       2.5    3067.0  ...       1.0  0.0     156.0          79.0   \n",
       "2  4/03/2017       2.5    3067.0  ...       2.0  0.0     134.0         150.0   \n",
       "3  4/03/2017       2.5    3067.0  ...       2.0  1.0      94.0           NaN   \n",
       "4  4/06/2016       2.5    3067.0  ...       1.0  2.0     120.0         142.0   \n",
       "\n",
       "   YearBuilt  CouncilArea Lattitude  Longtitude             Regionname  \\\n",
       "0        NaN        Yarra  -37.7996    144.9984  Northern Metropolitan   \n",
       "1     1900.0        Yarra  -37.8079    144.9934  Northern Metropolitan   \n",
       "2     1900.0        Yarra  -37.8093    144.9944  Northern Metropolitan   \n",
       "3        NaN        Yarra  -37.7969    144.9969  Northern Metropolitan   \n",
       "4     2014.0        Yarra  -37.8072    144.9941  Northern Metropolitan   \n",
       "\n",
       "  Propertycount  \n",
       "0        4019.0  \n",
       "1        4019.0  \n",
       "2        4019.0  \n",
       "3        4019.0  \n",
       "4        4019.0  \n",
       "\n",
       "[5 rows x 21 columns]"
      ]
     },
     "execution_count": 50,
     "metadata": {},
     "output_type": "execute_result"
    }
   ],
   "source": [
    "melb_data = pd.read_csv('../datasets/handling_null_values/melb_data.csv')\n",
    "melb_data_copy1 = melb_data\n",
    "melb_data_copy2 = melb_data\n",
    "\n",
    "dtf_1 = pd.DataFrame(columns = ['Accuracy', 'Time'])\n",
    "dtf_2 = pd.DataFrame(columns = ['Accuracy', 'Time'])\n",
    "dtf_3 = pd.DataFrame(columns = ['Accuracy', 'Time'])\n",
    "\n",
    "melb_data.head()"
   ]
  },
  {
   "cell_type": "code",
   "execution_count": 51,
   "metadata": {},
   "outputs": [
    {
     "data": {
      "text/plain": [
       "['Rooms',\n",
       " 'Distance',\n",
       " 'Postcode',\n",
       " 'Bedroom2',\n",
       " 'Bathroom',\n",
       " 'Car',\n",
       " 'Landsize',\n",
       " 'BuildingArea',\n",
       " 'YearBuilt',\n",
       " 'Lattitude',\n",
       " 'Longtitude',\n",
       " 'Propertycount']"
      ]
     },
     "execution_count": 51,
     "metadata": {},
     "output_type": "execute_result"
    }
   ],
   "source": [
    "# Consider Price as Target property and others as Predictors \n",
    "melb_target = melb_data.Price\n",
    "\n",
    "melb_predictors = melb_data.drop(['Price'], axis=1)\n",
    "melb_numeric_predictors = melb_predictors.select_dtypes(exclude=['object'])\n",
    "col_names = list(melb_numeric_predictors.columns)\n",
    "col_names"
   ]
  },
  {
   "cell_type": "markdown",
   "metadata": {},
   "source": [
    "## MinMaxScaler\n",
    "-  smaller standard deviations through the process"
   ]
  },
  {
   "cell_type": "markdown",
   "metadata": {},
   "source": [
    "### sklearn"
   ]
  },
  {
   "cell_type": "code",
   "execution_count": 92,
   "metadata": {},
   "outputs": [
    {
     "name": "stdout",
     "output_type": "stream",
     "text": [
      "          Rooms  Distance  Postcode  Bedroom2  Bathroom  Car  Landsize  \\\n",
      "10872  0.333333  0.565489  0.024565       0.2     0.250  0.2  0.000924   \n",
      "6603   0.111111  0.106029  0.185261       0.1     0.125  0.1  0.000000   \n",
      "\n",
      "       BuildingArea  YearBuilt  Lattitude  Longtitude  Propertycount  \n",
      "10872      0.003404   0.987835   0.403194    0.152420       0.234241  \n",
      "6603       0.003414   0.965937   0.418658    0.519479       0.193028  \n",
      "10872    478000.0\n",
      "6603     555000.0\n",
      "Name: Price, dtype: float64\n",
      "\n",
      "          Rooms  Distance  Postcode  Bedroom2  Bathroom  Car  Landsize  \\\n",
      "10059  0.222222  0.218295  0.020471      0.15     0.125  0.1  0.000744   \n",
      "6844   0.222222  0.037422  0.054248      0.15     0.250  0.1  0.000000   \n",
      "\n",
      "       BuildingArea  YearBuilt  Lattitude  Longtitude  Propertycount  \n",
      "10059      0.003414   0.935139   0.504457    0.354880       0.304378  \n",
      "6844       0.003414   0.935139   0.501214    0.493166       0.305453  \n",
      "10059     518000.0\n",
      "6844     1110000.0\n",
      "Name: Price, dtype: float64\n",
      "\n",
      "0.7971896610799047\n",
      "120\n"
     ]
    }
   ],
   "source": [
    "imputed_df = melb_data_copy2.select_dtypes(exclude=['object']).fillna(melb_data_copy2.select_dtypes(exclude=['object']).mean())\n",
    "\n",
    "mm_scaler = preprocessing.MinMaxScaler()\n",
    "df_mm = mm_scaler.fit_transform(imputed_df.drop(['Price'], axis =1))\n",
    "df_mm = pd.DataFrame(df_mm, columns=col_names)\n",
    "X_train, X_test, y_train, y_test = train_test_split(df_mm, imputed_df['Price'], test_size=0.3, random_state=69)\n",
    "\n",
    "print(X_train[:2])\n",
    "print(y_train[:2])\n",
    "print()\n",
    "print(X_test[:2])\n",
    "print(y_test[:2])\n",
    "print()\n",
    "\n",
    "model = RandomForestRegressor()\n",
    "estimators = np.arange(10, 200, 10)\n",
    "scores = []\n",
    "for n in estimators:\n",
    "    model.set_params(n_estimators=n)\n",
    "    model.fit(X_train, y_train)\n",
    "    scores.append(model.score(X_test, y_test))\n",
    "print(max(scores))\n",
    "print(estimators[scores.index(max(scores))])"
   ]
  },
  {
   "cell_type": "code",
   "execution_count": 93,
   "metadata": {},
   "outputs": [
    {
     "name": "stdout",
     "output_type": "stream",
     "text": [
      "[ 592510.         1223198.61111111 1653633.33333333  976995.83333333\n",
      "  579470.83333333]\n",
      "Mean Absolute Error: 174187.00462407758\n",
      "Mean Squared Error: 89520017255.5589\n",
      "Root Mean Squared Error: 299198.9593156348\n"
     ]
    }
   ],
   "source": [
    "mm_scaler = preprocessing.MinMaxScaler()\n",
    "start = time.time()\n",
    "imputed_df = melb_data_copy2.select_dtypes(exclude=['object']).fillna(melb_data_copy2.select_dtypes(exclude=['object']).mean())\n",
    "df_mm = mm_scaler.fit_transform(imputed_df.drop(['Price'], axis =1))\n",
    "df_mm = pd.DataFrame(df_mm, columns=col_names)\n",
    "X_train, X_test, y_train, y_test = train_test_split(df_mm, imputed_df['Price'], test_size=0.3, random_state=69)\n",
    "model = RandomForestRegressor(n_estimators = 120)\n",
    "model.fit(X_train, y_train)\n",
    "sklearn_preds = model.predict(X_test)\n",
    "end=time.time()\n",
    "sklearn_time = np.round(end - start,4)\n",
    "sklearn_accuracy = np.round(r2_score(y_test, sklearn_preds),4)\n",
    "print(sklearn_preds[:5])\n",
    "print('Mean Absolute Error:', mean_absolute_error(y_test, sklearn_preds))\n",
    "print('Mean Squared Error:', mean_squared_error(y_test, sklearn_preds))\n",
    "print('Root Mean Squared Error:', np.sqrt(mean_squared_error(y_test, sklearn_preds)))\n",
    "dtf_1.loc['sklearn'] = [sklearn_accuracy, sklearn_time]"
   ]
  },
  {
   "cell_type": "markdown",
   "metadata": {},
   "source": [
    "### preprocessy"
   ]
  },
  {
   "cell_type": "code",
   "execution_count": 75,
   "metadata": {},
   "outputs": [
    {
     "name": "stdout",
     "output_type": "stream",
     "text": [
      "         Rooms  Distance  Postcode  Bedroom2  Bathroom  Car  Landsize  \\\n",
      "4074  0.222222  0.289030  0.192426      0.15  0.285714  0.3  0.003238   \n",
      "4075  0.222222  0.172996  0.012282      0.20  0.142857  0.2  0.001238   \n",
      "\n",
      "      BuildingArea  YearBuilt  Lattitude  Longtitude  Propertycount  \n",
      "4074      0.022378   0.935139   0.320211    0.537139       0.238230  \n",
      "4075      0.016640   0.886861   0.497080    0.421050       0.219604  \n",
      "          Price\n",
      "4074  2200000.0\n",
      "4075  1151500.0\n",
      "\n",
      "      Rooms  Distance  Postcode  Bedroom2  Bathroom    Car  Landsize  \\\n",
      "0  0.285714  0.374220  0.097236  0.333333     0.250  0.250  0.014876   \n",
      "1  0.285714  0.135135  0.072671  0.222222     0.125  0.125  0.007348   \n",
      "\n",
      "   BuildingArea  YearBuilt  Lattitude  Longtitude  Propertycount  \n",
      "0      0.003414   0.686732   0.651479    0.622156       0.097986  \n",
      "1      0.002157   0.419162   0.579061    0.480176       0.402832  \n",
      "      Price\n",
      "0  881017.0\n",
      "1  995000.0\n",
      "\n",
      "-0.617559884841071\n",
      "80\n"
     ]
    }
   ],
   "source": [
    "melb_data_copy1_x = melb_data_copy1.sample(frac=1).reset_index(drop=True)\n",
    "params = {\"df\": melb_data_copy1_x.select_dtypes(exclude=['object']), \"test_size\": 0.3, \"type\": \"MinMaxScaler\",  \"fill_missing\":  \"mean\"}\n",
    "target_col = \"Price\"\n",
    "\n",
    "NullValuesHandler().execute(params)\n",
    "params[\"X\"] = params.pop(\"df\")\n",
    "Split().train_test_split(params)\n",
    "# this params has X, test_size, train_df, test_df, type\n",
    "# To get: target_col, columns\n",
    "params[\"train_df\"] = params.pop('train')\n",
    "params[\"test_df\"] = params.pop('test')\n",
    "params[\"columns\"] = list(params[\"train_df\"].columns)\n",
    "params[\"target_col\"] = target_col\n",
    "Scaler().execute(params)\n",
    "\n",
    "# print(params.keys())\n",
    "y_train = params[\"train_df\"][[\"Price\"]]\n",
    "X_train = params[\"train_df\"].drop(target_col,axis =1)\n",
    "X_test = params[\"test_df\"].drop(target_col,axis =1)\n",
    "y_test = params[\"test_df\"][[\"Price\"]]\n",
    "\n",
    "print(X_train[:2])\n",
    "print(y_train[:2])\n",
    "print()\n",
    "print(X_test[:2])\n",
    "print(y_test[:2])\n",
    "print()\n",
    "model = RandomForestRegressor()\n",
    "estimators = np.arange(10, 200, 10)\n",
    "scores = []\n",
    "for n in estimators:\n",
    "    model.set_params(n_estimators=n)\n",
    "    model.fit(X_train, y_train)\n",
    "    scores.append(model.score(X_test, y_test))\n",
    "print(max(scores))\n",
    "print(estimators[scores.index(max(scores))])"
   ]
  },
  {
   "cell_type": "code",
   "execution_count": null,
   "metadata": {},
   "outputs": [],
   "source": []
  },
  {
   "cell_type": "code",
   "execution_count": 80,
   "metadata": {},
   "outputs": [],
   "source": [
    "def preprocessy_score_dataset(params, target_col, no_estimators):\n",
    "\n",
    "    # params = {\"df\": melb_data_copy1.select_dtypes(exclude=['object']), \"test_size\": 0.3, \"type\": \"MinMaxScaler\",  \"fill_missing\":  \"mean\"}\n",
    "\n",
    "    start = time.time()\n",
    "    NullValuesHandler().execute(params)\n",
    "    params[\"X\"] = params.pop(\"df\")\n",
    "    Split().train_test_split(params)\n",
    "    # this params has X, test_size, train_df, test_df, type\n",
    "    # To get: target_col\n",
    "    params[\"train_df\"] = params.pop('train')\n",
    "    params[\"test_df\"] = params.pop('test')\n",
    "    params[\"columns\"] = list(params[\"train_df\"].columns)\n",
    "    params[\"target_col\"] = target_col\n",
    "    Scaler().execute(params)\n",
    "\n",
    "    # print(params.keys())\n",
    "    y_train = params[\"train_df\"][[\"Price\"]]\n",
    "    X_train = params[\"train_df\"].drop(target_col,axis =1)\n",
    "    X_test = params[\"test_df\"].drop(target_col,axis =1)\n",
    "    y_test = params[\"test_df\"][[\"Price\"]]\n",
    "    print(y_test.head(5))\n",
    "    model = RandomForestRegressor(n_estimators = no_estimators)\n",
    "    model.fit(X_train, y_train)\n",
    "    preprocessy_preds = model.predict(X_test)\n",
    "\n",
    "    end=time.time()\n",
    "    preprocessy_time = np.round(end - start,4)\n",
    "    \n",
    "    preprocessy_accuracy = np.round(r2_score(y_test, preprocessy_preds),4)\n",
    "    print(preprocessy_preds[:5])\n",
    "    print('Mean Absolute Error:', mean_absolute_error(y_test, preprocessy_preds))\n",
    "    print('Mean Squared Error:', mean_squared_error(y_test, preprocessy_preds))\n",
    "    print('Root Mean Squared Error:', np.sqrt(mean_squared_error(y_test, preprocessy_preds)))\n",
    "    return preprocessy_accuracy, preprocessy_time"
   ]
  },
  {
   "cell_type": "code",
   "execution_count": 84,
   "metadata": {},
   "outputs": [
    {
     "name": "stdout",
     "output_type": "stream",
     "text": [
      "       Price\n",
      "0   881017.0\n",
      "1   995000.0\n",
      "2   902000.0\n",
      "3  1075000.0\n",
      "4  1450000.0\n",
      "[1000362.5  1693773.6  2269425.   3300418.75 3493950.  ]\n",
      "Mean Absolute Error: 676305.0681280245\n",
      "Mean Squared Error: 816054743493.7233\n",
      "Root Mean Squared Error: 903357.4837757881\n"
     ]
    }
   ],
   "source": [
    "acc, t = preprocessy_score_dataset(params = {\"df\": melb_data_copy1_x.select_dtypes(exclude=['object']), \"test_size\": 0.3, \"type\": \"MinMaxScaler\",  \"fill_missing\":  \"mean\"}, target_col = \"Price\", no_estimators = 80)\n",
    "\n",
    "dtf_1.loc['Preprocessy'] = [acc, t]"
   ]
  },
  {
   "cell_type": "markdown",
   "metadata": {},
   "source": [
    "## StandardScaler"
   ]
  },
  {
   "cell_type": "markdown",
   "metadata": {},
   "source": [
    "### sklearn"
   ]
  },
  {
   "cell_type": "code",
   "execution_count": 98,
   "metadata": {},
   "outputs": [
    {
     "name": "stdout",
     "output_type": "stream",
     "text": [
      "0.7998959670016117\n",
      "50\n"
     ]
    }
   ],
   "source": [
    "imputed_df = melb_data_copy2.select_dtypes(exclude=['object']).fillna(melb_data_copy2.select_dtypes(exclude=['object']).mean())\n",
    "s_scaler = preprocessing.StandardScaler()\n",
    "df_s = s_scaler.fit_transform(imputed_df.drop(['Price'], axis =1))\n",
    "df_s = pd.DataFrame(df_s, columns=col_names)\n",
    "X_train, X_test, y_train, y_test = train_test_split(df_s, imputed_df['Price'], test_size=0.3, random_state=69)\n",
    "model = RandomForestRegressor()\n",
    "estimators = np.arange(10, 200, 10)\n",
    "scores = []\n",
    "for n in estimators:\n",
    "    model.set_params(n_estimators=n)\n",
    "    model.fit(X_train, y_train)\n",
    "    scores.append(model.score(X_test, y_test))\n",
    "print(max(scores))\n",
    "print(estimators[scores.index(max(scores))])"
   ]
  },
  {
   "cell_type": "code",
   "execution_count": 110,
   "metadata": {},
   "outputs": [
    {
     "name": "stdout",
     "output_type": "stream",
     "text": [
      "[ 629990.         1232493.33333333 1663110.          993050.\n",
      "  610126.        ]\n",
      "Mean Absolute Error: 174914.23406597003\n",
      "Mean Squared Error: 89985125605.21092\n",
      "Root Mean Squared Error: 299975.208317639\n"
     ]
    }
   ],
   "source": [
    "s_scaler = preprocessing.StandardScaler()\n",
    "start = time.time()\n",
    "imputed_df = melb_data_copy2.select_dtypes(exclude=['object']).fillna(melb_data_copy2.select_dtypes(exclude=['object']).mean())\n",
    "df_s = s_scaler.fit_transform(imputed_df.drop(['Price'], axis =1))\n",
    "df_s = pd.DataFrame(df_s, columns=col_names)\n",
    "X_train, X_test, y_train, y_test = train_test_split(df_s, imputed_df['Price'], test_size=0.3, random_state=69)\n",
    "model = RandomForestRegressor(n_estimators = 50)\n",
    "model.fit(X_train, y_train)\n",
    "sklearn_preds = model.predict(X_test)\n",
    "end=time.time()\n",
    "sklearn_time = np.round(end - start,4)\n",
    "sklearn_accuracy = np.round(r2_score(y_test, sklearn_preds),4)\n",
    "print(sklearn_preds[:5])\n",
    "print('Mean Absolute Error:', mean_absolute_error(y_test, sklearn_preds))\n",
    "print('Mean Squared Error:', mean_squared_error(y_test, sklearn_preds))\n",
    "print('Root Mean Squared Error:', np.sqrt(mean_squared_error(y_test, sklearn_preds)))\n",
    "dtf_2.loc['sklearn'] = [sklearn_accuracy, sklearn_time]"
   ]
  },
  {
   "cell_type": "markdown",
   "metadata": {},
   "source": [
    "### preprocessy"
   ]
  },
  {
   "cell_type": "code",
   "execution_count": 86,
   "metadata": {},
   "outputs": [
    {
     "name": "stdout",
     "output_type": "stream",
     "text": [
      "         Rooms  Distance  Postcode  Bedroom2  Bathroom       Car  Landsize  \\\n",
      "4074  0.061472  0.601463  0.914144  0.086004  0.684322  1.431324  0.176030   \n",
      "4075  0.061472 -0.335258 -1.027479  1.118274 -0.771624  0.399141 -0.008076   \n",
      "\n",
      "      BuildingArea  YearBuilt  Lattitude  Longtitude  Propertycount  \n",
      "4074      0.025288  -0.000787  -1.576042    0.015216      -0.457171  \n",
      "4075     -0.372561  -1.354584   0.139655   -1.158390      -0.547581  \n",
      "          Price\n",
      "4074  2200000.0\n",
      "4075  1151500.0\n",
      "\n",
      "     Rooms  Distance  Postcode  Bedroom2  Bathroom       Car  Landsize  \\\n",
      "0  0.07283  1.353385 -0.117757  0.093638  0.648448  0.422536  0.115897   \n",
      "1  0.07283 -0.608321 -0.382191 -0.948662 -0.774157 -0.640563 -0.161600   \n",
      "\n",
      "   BuildingArea  YearBuilt  Lattitude  Longtitude  Propertycount  \n",
      "0     -0.008257   0.001912   1.341104    1.317252      -1.166377  \n",
      "1     -0.088221  -1.584666   0.671820   -0.105729       0.324580  \n",
      "      Price\n",
      "0  881017.0\n",
      "1  995000.0\n",
      "\n",
      "0.609247029468338\n",
      "80\n"
     ]
    }
   ],
   "source": [
    "params = {\"df\": melb_data_copy1_x.select_dtypes(exclude=['object']), \"test_size\": 0.3, \"type\": \"StandardScaler\",  \"fill_missing\":  \"mean\"}\n",
    "target_col = \"Price\"\n",
    "\n",
    "NullValuesHandler().execute(params)\n",
    "params[\"X\"] = params.pop(\"df\")\n",
    "Split().train_test_split(params)\n",
    "# this params has X, test_size, train_df, test_df, type\n",
    "# To get: target_col, columns\n",
    "params[\"train_df\"] = params.pop('train')\n",
    "params[\"test_df\"] = params.pop('test')\n",
    "params[\"columns\"] = list(params[\"train_df\"].columns)\n",
    "params[\"target_col\"] = target_col\n",
    "Scaler().execute(params)\n",
    "\n",
    "# print(params.keys())\n",
    "y_train = params[\"train_df\"][[\"Price\"]]\n",
    "X_train = params[\"train_df\"].drop(target_col,axis =1)\n",
    "X_test = params[\"test_df\"].drop(target_col,axis =1)\n",
    "y_test = params[\"test_df\"][[\"Price\"]]\n",
    "\n",
    "print(X_train[:2])\n",
    "print(y_train[:2])\n",
    "print()\n",
    "print(X_test[:2])\n",
    "print(y_test[:2])\n",
    "print()\n",
    "model = RandomForestRegressor()\n",
    "estimators = np.arange(10, 200, 10)\n",
    "scores = []\n",
    "for n in estimators:\n",
    "    model.set_params(n_estimators=n)\n",
    "    model.fit(X_train, y_train)\n",
    "    scores.append(model.score(X_test, y_test))\n",
    "print(max(scores))\n",
    "print(estimators[scores.index(max(scores))])"
   ]
  },
  {
   "cell_type": "code",
   "execution_count": 87,
   "metadata": {},
   "outputs": [
    {
     "name": "stdout",
     "output_type": "stream",
     "text": [
      "       Price\n",
      "0   881017.0\n",
      "1   995000.0\n",
      "2   902000.0\n",
      "3  1075000.0\n",
      "4  1450000.0\n",
      "[ 931225.    800743.75  724366.25 1138093.75 1658400.  ]\n",
      "Mean Absolute Error: 255442.90709734496\n",
      "Mean Squared Error: 164138703312.8332\n",
      "Root Mean Squared Error: 405140.3501415691\n"
     ]
    }
   ],
   "source": [
    "acc, t = preprocessy_score_dataset(params = {\"df\": melb_data_copy1_x.select_dtypes(exclude=['object']), \"test_size\": 0.3, \"type\": \"StandardScaler\",  \"fill_missing\":  \"mean\"}, target_col = \"Price\", no_estimators = 80)\n",
    "\n",
    "dtf_2.loc['Preprocessy'] = [acc, t]"
   ]
  },
  {
   "cell_type": "markdown",
   "metadata": {},
   "source": [
    "## BinaryScaler"
   ]
  },
  {
   "cell_type": "markdown",
   "metadata": {},
   "source": [
    "### sklearn"
   ]
  },
  {
   "cell_type": "code",
   "execution_count": 112,
   "metadata": {},
   "outputs": [
    {
     "name": "stdout",
     "output_type": "stream",
     "text": [
      "0.0646790724493077\n",
      "10\n"
     ]
    }
   ],
   "source": [
    "imputed_df = melb_data_copy2.select_dtypes(exclude=['object']).fillna(melb_data_copy2.select_dtypes(exclude=['object']).mean())\n",
    "b_scaler = preprocessing.Binarizer()\n",
    "df_b = b_scaler.fit_transform(imputed_df.drop(['Price'], axis =1))\n",
    "df_b = pd.DataFrame(df_b, columns=col_names)\n",
    "X_train, X_test, y_train, y_test = train_test_split(df_b, imputed_df['Price'], test_size=0.3, random_state=69)\n",
    "model = RandomForestRegressor()\n",
    "estimators = np.arange(10, 200, 10)\n",
    "scores = []\n",
    "for n in estimators:\n",
    "    model.set_params(n_estimators=n)\n",
    "    model.fit(X_train, y_train)\n",
    "    scores.append(model.score(X_test, y_test))\n",
    "print(max(scores))\n",
    "print(estimators[scores.index(max(scores))])"
   ]
  },
  {
   "cell_type": "code",
   "execution_count": 113,
   "metadata": {},
   "outputs": [
    {
     "name": "stdout",
     "output_type": "stream",
     "text": [
      "[1143008.94698582  640846.90979939 1143008.94698582 1143008.94698582\n",
      " 1143008.94698582]\n",
      "Mean Absolute Error: 442692.58795341593\n",
      "Mean Squared Error: 405721239003.7401\n",
      "Root Mean Squared Error: 636962.5098887219\n"
     ]
    }
   ],
   "source": [
    "b_scaler = preprocessing.Binarizer()\n",
    "start = time.time()\n",
    "imputed_df = melb_data_copy2.select_dtypes(exclude=['object']).fillna(melb_data_copy2.select_dtypes(exclude=['object']).mean())\n",
    "df_b = b_scaler.fit_transform(imputed_df.drop(['Price'], axis =1))\n",
    "df_b = pd.DataFrame(df_b, columns=col_names)\n",
    "X_train, X_test, y_train, y_test = train_test_split(df_b, imputed_df['Price'], test_size=0.3, random_state=69)\n",
    "model = RandomForestRegressor(n_estimators = 10)\n",
    "model.fit(X_train, y_train)\n",
    "sklearn_preds = model.predict(X_test)\n",
    "end=time.time()\n",
    "sklearn_time = np.round(end - start,4)\n",
    "sklearn_accuracy = np.round(r2_score(y_test, sklearn_preds),4)\n",
    "print(sklearn_preds[:5])\n",
    "print('Mean Absolute Error:', mean_absolute_error(y_test, sklearn_preds))\n",
    "print('Mean Squared Error:', mean_squared_error(y_test, sklearn_preds))\n",
    "print('Root Mean Squared Error:', np.sqrt(mean_squared_error(y_test, sklearn_preds)))\n",
    "dtf_3.loc['sklearn'] = [sklearn_accuracy, sklearn_time]"
   ]
  },
  {
   "cell_type": "markdown",
   "metadata": {},
   "source": [
    "### preprocessy"
   ]
  },
  {
   "cell_type": "code",
   "execution_count": 115,
   "metadata": {},
   "outputs": [
    {
     "name": "stdout",
     "output_type": "stream",
     "text": [
      "      Rooms  Distance  Postcode  Bedroom2  Bathroom  Car  Landsize  \\\n",
      "4074      1         1         1         1         1    1         1   \n",
      "4075      1         1         1         1         1    1         1   \n",
      "\n",
      "      BuildingArea  YearBuilt  Lattitude  Longtitude  Propertycount  \n",
      "4074             1          1          0           1              1  \n",
      "4075             1          1          0           1              1  \n",
      "          Price\n",
      "4074  2200000.0\n",
      "4075  1151500.0\n",
      "\n",
      "   Rooms  Distance  Postcode  Bedroom2  Bathroom  Car  Landsize  BuildingArea  \\\n",
      "0      1         1         1         1         1    1         1             1   \n",
      "1      1         1         1         1         1    1         1             1   \n",
      "\n",
      "   YearBuilt  Lattitude  Longtitude  Propertycount  \n",
      "0          1          0           1              1  \n",
      "1          1          0           1              1  \n",
      "      Price\n",
      "0  881017.0\n",
      "1  995000.0\n",
      "\n",
      "0.06584096190103228\n",
      "30\n"
     ]
    }
   ],
   "source": [
    "params = {\"df\": melb_data_copy1_x.select_dtypes(exclude=['object']), \"test_size\": 0.3, \"type\": \"BinaryScaler\",  \"fill_missing\":  \"mean\"}\n",
    "target_col = \"Price\"\n",
    "\n",
    "NullValuesHandler().execute(params)\n",
    "params[\"X\"] = params.pop(\"df\")\n",
    "Split().train_test_split(params)\n",
    "# this params has X, test_size, train_df, test_df, type\n",
    "# To get: target_col, columns\n",
    "params[\"train_df\"] = params.pop('train')\n",
    "params[\"test_df\"] = params.pop('test')\n",
    "params[\"columns\"] = list(params[\"train_df\"].columns)\n",
    "params[\"target_col\"] = target_col\n",
    "Scaler().execute(params)\n",
    "\n",
    "# print(params.keys())\n",
    "y_train = params[\"train_df\"][[\"Price\"]]\n",
    "X_train = params[\"train_df\"].drop(target_col,axis =1)\n",
    "X_test = params[\"test_df\"].drop(target_col,axis =1)\n",
    "y_test = params[\"test_df\"][[\"Price\"]]\n",
    "\n",
    "print(X_train[:2])\n",
    "print(y_train[:2])\n",
    "print()\n",
    "print(X_test[:2])\n",
    "print(y_test[:2])\n",
    "print()\n",
    "model = RandomForestRegressor()\n",
    "estimators = np.arange(10, 200, 10)\n",
    "scores = []\n",
    "for n in estimators:\n",
    "    model.set_params(n_estimators=n)\n",
    "    model.fit(X_train, y_train)\n",
    "    scores.append(model.score(X_test, y_test))\n",
    "print(max(scores))\n",
    "print(estimators[scores.index(max(scores))])"
   ]
  },
  {
   "cell_type": "code",
   "execution_count": 90,
   "metadata": {},
   "outputs": [
    {
     "name": "stdout",
     "output_type": "stream",
     "text": [
      "       Price\n",
      "0   881017.0\n",
      "1   995000.0\n",
      "2   902000.0\n",
      "3  1075000.0\n",
      "4  1450000.0\n",
      "[1144457.12680848 1144457.12680848 1144457.12680848 1144457.12680848\n",
      " 1144457.12680848]\n",
      "Mean Absolute Error: 434299.1286214688\n",
      "Mean Squared Error: 386468948618.0512\n",
      "Root Mean Squared Error: 621666.2678785549\n"
     ]
    }
   ],
   "source": [
    "acc, t = preprocessy_score_dataset(params = {\"df\": melb_data_copy1_x.select_dtypes(exclude=['object']), \"test_size\": 0.3, \"type\": \"BinaryScaler\",  \"fill_missing\":  \"mean\"}, target_col = \"Price\", no_estimators = 30)\n",
    "\n",
    "dtf_3.loc['Preprocessy'] = [acc, t]"
   ]
  },
  {
   "cell_type": "markdown",
   "metadata": {},
   "source": [
    "#### MinMaxScaler"
   ]
  },
  {
   "cell_type": "code",
   "execution_count": 101,
   "metadata": {},
   "outputs": [
    {
     "data": {
      "text/html": [
       "<div>\n",
       "<style scoped>\n",
       "    .dataframe tbody tr th:only-of-type {\n",
       "        vertical-align: middle;\n",
       "    }\n",
       "\n",
       "    .dataframe tbody tr th {\n",
       "        vertical-align: top;\n",
       "    }\n",
       "\n",
       "    .dataframe thead th {\n",
       "        text-align: right;\n",
       "    }\n",
       "</style>\n",
       "<table border=\"1\" class=\"dataframe\">\n",
       "  <thead>\n",
       "    <tr style=\"text-align: right;\">\n",
       "      <th></th>\n",
       "      <th>Accuracy</th>\n",
       "      <th>Time</th>\n",
       "    </tr>\n",
       "  </thead>\n",
       "  <tbody>\n",
       "    <tr>\n",
       "      <th>Preprocessy</th>\n",
       "      <td>-0.9742</td>\n",
       "      <td>3.3462</td>\n",
       "    </tr>\n",
       "    <tr>\n",
       "      <th>sklearn</th>\n",
       "      <td>0.7935</td>\n",
       "      <td>5.6237</td>\n",
       "    </tr>\n",
       "  </tbody>\n",
       "</table>\n",
       "</div>"
      ],
      "text/plain": [
       "             Accuracy    Time\n",
       "Preprocessy   -0.9742  3.3462\n",
       "sklearn        0.7935  5.6237"
      ]
     },
     "execution_count": 101,
     "metadata": {},
     "output_type": "execute_result"
    }
   ],
   "source": [
    "dtf_1"
   ]
  },
  {
   "cell_type": "markdown",
   "metadata": {},
   "source": [
    "#### StandardScaler"
   ]
  },
  {
   "cell_type": "code",
   "execution_count": 111,
   "metadata": {},
   "outputs": [
    {
     "data": {
      "text/html": [
       "<div>\n",
       "<style scoped>\n",
       "    .dataframe tbody tr th:only-of-type {\n",
       "        vertical-align: middle;\n",
       "    }\n",
       "\n",
       "    .dataframe tbody tr th {\n",
       "        vertical-align: top;\n",
       "    }\n",
       "\n",
       "    .dataframe thead th {\n",
       "        text-align: right;\n",
       "    }\n",
       "</style>\n",
       "<table border=\"1\" class=\"dataframe\">\n",
       "  <thead>\n",
       "    <tr style=\"text-align: right;\">\n",
       "      <th></th>\n",
       "      <th>Accuracy</th>\n",
       "      <th>Time</th>\n",
       "    </tr>\n",
       "  </thead>\n",
       "  <tbody>\n",
       "    <tr>\n",
       "      <th>Preprocessy</th>\n",
       "      <td>0.6029</td>\n",
       "      <td>4.2220</td>\n",
       "    </tr>\n",
       "    <tr>\n",
       "      <th>sklearn</th>\n",
       "      <td>0.7925</td>\n",
       "      <td>2.1454</td>\n",
       "    </tr>\n",
       "  </tbody>\n",
       "</table>\n",
       "</div>"
      ],
      "text/plain": [
       "             Accuracy    Time\n",
       "Preprocessy    0.6029  4.2220\n",
       "sklearn        0.7925  2.1454"
      ]
     },
     "execution_count": 111,
     "metadata": {},
     "output_type": "execute_result"
    }
   ],
   "source": [
    "dtf_2"
   ]
  },
  {
   "cell_type": "markdown",
   "metadata": {},
   "source": [
    "#### BinaryScaler"
   ]
  },
  {
   "cell_type": "code",
   "execution_count": 114,
   "metadata": {},
   "outputs": [
    {
     "data": {
      "text/html": [
       "<div>\n",
       "<style scoped>\n",
       "    .dataframe tbody tr th:only-of-type {\n",
       "        vertical-align: middle;\n",
       "    }\n",
       "\n",
       "    .dataframe tbody tr th {\n",
       "        vertical-align: top;\n",
       "    }\n",
       "\n",
       "    .dataframe thead th {\n",
       "        text-align: right;\n",
       "    }\n",
       "</style>\n",
       "<table border=\"1\" class=\"dataframe\">\n",
       "  <thead>\n",
       "    <tr style=\"text-align: right;\">\n",
       "      <th></th>\n",
       "      <th>Accuracy</th>\n",
       "      <th>Time</th>\n",
       "    </tr>\n",
       "  </thead>\n",
       "  <tbody>\n",
       "    <tr>\n",
       "      <th>Preprocessy</th>\n",
       "      <td>0.0651</td>\n",
       "      <td>0.1361</td>\n",
       "    </tr>\n",
       "    <tr>\n",
       "      <th>sklearn</th>\n",
       "      <td>0.0643</td>\n",
       "      <td>0.0728</td>\n",
       "    </tr>\n",
       "  </tbody>\n",
       "</table>\n",
       "</div>"
      ],
      "text/plain": [
       "             Accuracy    Time\n",
       "Preprocessy    0.0651  0.1361\n",
       "sklearn        0.0643  0.0728"
      ]
     },
     "execution_count": 114,
     "metadata": {},
     "output_type": "execute_result"
    }
   ],
   "source": [
    "dtf_3"
   ]
  },
  {
   "cell_type": "code",
   "execution_count": null,
   "metadata": {},
   "outputs": [],
   "source": []
  }
 ],
 "metadata": {
  "language_info": {},
  "orig_nbformat": 3
 },
 "nbformat": 4,
 "nbformat_minor": 2
}